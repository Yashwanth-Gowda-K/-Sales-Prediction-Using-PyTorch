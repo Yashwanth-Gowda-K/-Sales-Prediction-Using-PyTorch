{
 "cells": [
  {
   "cell_type": "code",
   "execution_count": 1,
   "id": "6f1ff769",
   "metadata": {
    "_cell_guid": "b1076dfc-b9ad-4769-8c92-a6c4dae69d19",
    "_uuid": "8f2839f25d086af736a60e9eeb907d3b93b6e0e5",
    "execution": {
     "iopub.execute_input": "2025-09-24T08:08:46.953440Z",
     "iopub.status.busy": "2025-09-24T08:08:46.953056Z",
     "iopub.status.idle": "2025-09-24T08:08:49.170209Z",
     "shell.execute_reply": "2025-09-24T08:08:49.168802Z"
    },
    "papermill": {
     "duration": 2.227774,
     "end_time": "2025-09-24T08:08:49.172274",
     "exception": false,
     "start_time": "2025-09-24T08:08:46.944500",
     "status": "completed"
    },
    "tags": []
   },
   "outputs": [],
   "source": [
    "# This Python 3 environment comes with many helpful analytics libraries installed\n",
    "# It is defined by the kaggle/python Docker image: https://github.com/kaggle/docker-python\n",
    "# For example, here's several helpful packages to load\n",
    "\n",
    "import numpy as np # linear algebra\n",
    "import pandas as pd # data processing, CSV file I/O (e.g. pd.read_csv)\n",
    "\n",
    "# Input data files are available in the read-only \"../input/\" directory\n",
    "# For example, running this (by clicking run or pressing Shift+Enter) will list all files under the input directory\n",
    "\n",
    "import os\n",
    "for dirname, _, filenames in os.walk('/kaggle/input'):\n",
    "    for filename in filenames:\n",
    "        print(os.path.join(dirname, filename))\n",
    "\n",
    "# You can write up to 20GB to the current directory (/kaggle/working/) that gets preserved as output when you create a version using \"Save & Run All\" \n",
    "# You can also write temporary files to /kaggle/temp/, but they won't be saved outside of the current session"
   ]
  },
  {
   "cell_type": "markdown",
   "id": "a70de543",
   "metadata": {
    "papermill": {
     "duration": 0.005821,
     "end_time": "2025-09-24T08:08:49.185344",
     "exception": false,
     "start_time": "2025-09-24T08:08:49.179523",
     "status": "completed"
    },
    "tags": []
   },
   "source": [
    "# Step-1 Data Creation"
   ]
  },
  {
   "cell_type": "code",
   "execution_count": 2,
   "id": "6875669a",
   "metadata": {
    "execution": {
     "iopub.execute_input": "2025-09-24T08:08:49.199294Z",
     "iopub.status.busy": "2025-09-24T08:08:49.198739Z",
     "iopub.status.idle": "2025-09-24T08:08:55.062829Z",
     "shell.execute_reply": "2025-09-24T08:08:55.061769Z"
    },
    "papermill": {
     "duration": 5.873271,
     "end_time": "2025-09-24T08:08:55.064713",
     "exception": false,
     "start_time": "2025-09-24T08:08:49.191442",
     "status": "completed"
    },
    "tags": []
   },
   "outputs": [],
   "source": [
    "import numpy as np\n",
    "import pandas as pd\n",
    "import matplotlib.pyplot as plt\n",
    "import torch \n",
    "from torch.utils.data import TensorDataset, DataLoader"
   ]
  },
  {
   "cell_type": "code",
   "execution_count": 3,
   "id": "b82d4978",
   "metadata": {
    "execution": {
     "iopub.execute_input": "2025-09-24T08:08:55.079661Z",
     "iopub.status.busy": "2025-09-24T08:08:55.079198Z",
     "iopub.status.idle": "2025-09-24T08:08:55.105925Z",
     "shell.execute_reply": "2025-09-24T08:08:55.104713Z"
    },
    "papermill": {
     "duration": 0.036543,
     "end_time": "2025-09-24T08:08:55.107715",
     "exception": false,
     "start_time": "2025-09-24T08:08:55.071172",
     "status": "completed"
    },
    "tags": []
   },
   "outputs": [
    {
     "name": "stdout",
     "output_type": "stream",
     "text": [
      "   TV_Ads  Radio_Ads  Online_Ads        Sales\n",
      "0   16795       8956        7041  2819.100172\n",
      "1    1860       9645       11470   856.463555\n",
      "2    6390       5024        6063  -175.977287\n",
      "3   12964       7059        9437  2626.884083\n",
      "4   12284       8120       11350    73.025046\n"
     ]
    }
   ],
   "source": [
    "# Fix the random seed (so results are reproducible)\n",
    "np.random.seed(42)\n",
    "\n",
    "# Number of samples\n",
    "n_samples = 5000\n",
    "\n",
    "# Input features (advertising budgets)\n",
    "tv_ads = np.random.randint(1000, 20000, n_samples)      # TV budget\n",
    "radio_ads = np.random.randint(500, 10000, n_samples)    # Radio budget\n",
    "online_ads = np.random.randint(1000, 15000, n_samples)  # Online budget\n",
    "\n",
    "# Target (sales): linear combination of ads + noise\n",
    "sales = 0.05 * tv_ads + 0.04 * radio_ads + 0.03 * online_ads + np.random.normal(0, 1000, n_samples)\n",
    "\n",
    "# Create a DataFrame (like a small dataset table)\n",
    "df = pd.DataFrame({\n",
    "    \"TV_Ads\": tv_ads,\n",
    "    \"Radio_Ads\": radio_ads,\n",
    "    \"Online_Ads\": online_ads,\n",
    "    \"Sales\": sales\n",
    "})\n",
    "\n",
    "print(df.head())  # Show first 5 rows\n"
   ]
  },
  {
   "cell_type": "markdown",
   "id": "763f059a",
   "metadata": {
    "papermill": {
     "duration": 0.005763,
     "end_time": "2025-09-24T08:08:55.120046",
     "exception": false,
     "start_time": "2025-09-24T08:08:55.114283",
     "status": "completed"
    },
    "tags": []
   },
   "source": [
    "# Step-2 EDA"
   ]
  },
  {
   "cell_type": "code",
   "execution_count": 4,
   "id": "59bb7fa3",
   "metadata": {
    "execution": {
     "iopub.execute_input": "2025-09-24T08:08:55.133983Z",
     "iopub.status.busy": "2025-09-24T08:08:55.133625Z",
     "iopub.status.idle": "2025-09-24T08:08:56.456094Z",
     "shell.execute_reply": "2025-09-24T08:08:56.454971Z"
    },
    "papermill": {
     "duration": 1.333281,
     "end_time": "2025-09-24T08:08:56.459821",
     "exception": false,
     "start_time": "2025-09-24T08:08:55.126540",
     "status": "completed"
    },
    "tags": []
   },
   "outputs": [
    {
     "name": "stdout",
     "output_type": "stream",
     "text": [
      "Shape of the dataset: (5000, 4)\n",
      "\n",
      "Dataset Info:\n",
      "<class 'pandas.core.frame.DataFrame'>\n",
      "RangeIndex: 5000 entries, 0 to 4999\n",
      "Data columns (total 4 columns):\n",
      " #   Column      Non-Null Count  Dtype  \n",
      "---  ------      --------------  -----  \n",
      " 0   TV_Ads      5000 non-null   int64  \n",
      " 1   Radio_Ads   5000 non-null   int64  \n",
      " 2   Online_Ads  5000 non-null   int64  \n",
      " 3   Sales       5000 non-null   float64\n",
      "dtypes: float64(1), int64(3)\n",
      "memory usage: 156.4 KB\n",
      "None\n",
      "\n",
      " Summary Statistics\n",
      "             TV_Ads    Radio_Ads    Online_Ads        Sales\n",
      "count   5000.000000  5000.000000   5000.000000  5000.000000\n",
      "mean   10486.155800  5207.444200   7922.948200   960.789146\n",
      "std     5477.197546  2744.480026   4015.336831  1054.338067\n",
      "min     1009.000000   501.000000   1004.000000 -3049.580085\n",
      "25%     5780.000000  2870.750000   4482.000000   243.544343\n",
      "50%    10578.000000  5156.000000   7921.500000   941.342908\n",
      "75%    15113.000000  7560.000000  11295.000000  1684.232685\n",
      "max    19994.000000  9999.000000  14999.000000  4589.340334\n",
      "\n",
      "Missing values:\n",
      "TV_Ads        0\n",
      "Radio_Ads     0\n",
      "Online_Ads    0\n",
      "Sales         0\n",
      "dtype: int64\n",
      "\n",
      "Correlation Matrix:\n",
      "              TV_Ads  Radio_Ads  Online_Ads     Sales\n",
      "TV_Ads      1.000000   0.009378    0.017354  0.254993\n",
      "Radio_Ads   0.009378   1.000000   -0.017900  0.110153\n",
      "Online_Ads  0.017354  -0.017900    1.000000  0.117859\n",
      "Sales       0.254993   0.110153    0.117859  1.000000\n"
     ]
    },
    {
     "data": {
      "image/png": "[encoded data removed]",
      "text/plain": [
       "<Figure size 1000x600 with 4 Axes>"
      ]
     },
     "metadata": {},
     "output_type": "display_data"
    },
    {
     "data": {
      "image/png": "[encoded data removed]",
      "text/plain": [
       "<Figure size 600x400 with 1 Axes>"
      ]
     },
     "metadata": {},
     "output_type": "display_data"
    }
   ],
   "source": [
    "#  1. Shape \n",
    "print (\"Shape of the dataset:\", df.shape)\n",
    "\n",
    "# 2. Info\n",
    "print(\"\\nDataset Info:\")\n",
    "print(df.info())\n",
    "\n",
    "\n",
    "# 3. Statistical summary \n",
    "print(\"\\n Summary Statistics\")\n",
    "print(df.describe())\n",
    "\n",
    "# 4. Check for missing values\n",
    "print(\"\\nMissing values:\")\n",
    "print(df.isnull().sum())\n",
    "\n",
    "# 5. Correlation matrix (to see relationships)\n",
    "print(\"\\nCorrelation Matrix:\")\n",
    "print(df.corr())\n",
    "\n",
    "# 6. Visualization\n",
    "import matplotlib.pyplot as plt\n",
    "\n",
    "# Plot distributions of features\n",
    "df.hist(figsize=(10, 6), bins=30)\n",
    "plt.suptitle(\"Feature Distributions\", fontsize=14)\n",
    "plt.show()\n",
    "\n",
    "# Scatter plot: Ads vs Sales\n",
    "plt.figure(figsize=(6, 4))\n",
    "plt.scatter(df[\"TV_Ads\"], df[\"Sales\"], alpha=0.5, label=\"TV vs Sales\")\n",
    "plt.xlabel(\"TV Ads Budget\")\n",
    "plt.ylabel(\"Sales\")\n",
    "plt.legend()\n",
    "plt.show()"
   ]
  },
  {
   "cell_type": "markdown",
   "id": "fc4abde1",
   "metadata": {
    "papermill": {
     "duration": 0.009727,
     "end_time": "2025-09-24T08:08:56.482015",
     "exception": false,
     "start_time": "2025-09-24T08:08:56.472288",
     "status": "completed"
    },
    "tags": []
   },
   "source": [
    "# Step-3 preprocessing"
   ]
  },
  {
   "cell_type": "code",
   "execution_count": 5,
   "id": "43f660a6",
   "metadata": {
    "execution": {
     "iopub.execute_input": "2025-09-24T08:08:56.503693Z",
     "iopub.status.busy": "2025-09-24T08:08:56.503357Z",
     "iopub.status.idle": "2025-09-24T08:08:58.344559Z",
     "shell.execute_reply": "2025-09-24T08:08:58.342602Z"
    },
    "papermill": {
     "duration": 1.854778,
     "end_time": "2025-09-24T08:08:58.346743",
     "exception": false,
     "start_time": "2025-09-24T08:08:56.491965",
     "status": "completed"
    },
    "tags": []
   },
   "outputs": [],
   "source": [
    "from sklearn.model_selection import train_test_split\n",
    "from sklearn.preprocessing import StandardScaler"
   ]
  },
  {
   "cell_type": "code",
   "execution_count": 6,
   "id": "998b57a2",
   "metadata": {
    "execution": {
     "iopub.execute_input": "2025-09-24T08:08:58.369913Z",
     "iopub.status.busy": "2025-09-24T08:08:58.369388Z",
     "iopub.status.idle": "2025-09-24T08:08:58.377228Z",
     "shell.execute_reply": "2025-09-24T08:08:58.376228Z"
    },
    "papermill": {
     "duration": 0.02232,
     "end_time": "2025-09-24T08:08:58.378985",
     "exception": false,
     "start_time": "2025-09-24T08:08:58.356665",
     "status": "completed"
    },
    "tags": []
   },
   "outputs": [],
   "source": [
    "# Split features ( x ) and target ( y )\n",
    "X = df[[\"TV_Ads\", \"Radio_Ads\", \"Online_Ads\"]].values\n",
    "y = df['Sales'].values.reshape(-1, 1)"
   ]
  },
  {
   "cell_type": "code",
   "execution_count": 7,
   "id": "e7b881fb",
   "metadata": {
    "execution": {
     "iopub.execute_input": "2025-09-24T08:08:58.401938Z",
     "iopub.status.busy": "2025-09-24T08:08:58.401569Z",
     "iopub.status.idle": "2025-09-24T08:08:58.464447Z",
     "shell.execute_reply": "2025-09-24T08:08:58.462848Z"
    },
    "papermill": {
     "duration": 0.07729,
     "end_time": "2025-09-24T08:08:58.466296",
     "exception": true,
     "start_time": "2025-09-24T08:08:58.389006",
     "status": "failed"
    },
    "tags": []
   },
   "outputs": [
    {
     "ename": "NameError",
     "evalue": "name 'scaler_x' is not defined",
     "output_type": "error",
     "traceback": [
      "\u001b[0;31m---------------------------------------------------------------------------\u001b[0m",
      "\u001b[0;31mNameError\u001b[0m                                 Traceback (most recent call last)",
      "\u001b[0;32m/tmp/ipykernel_13/3952354342.py\u001b[0m in \u001b[0;36m<cell line: 0>\u001b[0;34m()\u001b[0m\n\u001b[1;32m      3\u001b[0m \u001b[0;34m\u001b[0m\u001b[0m\n\u001b[1;32m      4\u001b[0m \u001b[0;31m# Scale the data (ONCE!)\u001b[0m\u001b[0;34m\u001b[0m\u001b[0;34m\u001b[0m\u001b[0m\n\u001b[0;32m----> 5\u001b[0;31m \u001b[0mX_train_scaled\u001b[0m \u001b[0;34m=\u001b[0m \u001b[0mscaler_x\u001b[0m\u001b[0;34m.\u001b[0m\u001b[0mfit_transform\u001b[0m\u001b[0;34m(\u001b[0m\u001b[0mX_train\u001b[0m\u001b[0;34m)\u001b[0m\u001b[0;34m\u001b[0m\u001b[0;34m\u001b[0m\u001b[0m\n\u001b[0m\u001b[1;32m      6\u001b[0m \u001b[0mX_test_scaled\u001b[0m \u001b[0;34m=\u001b[0m \u001b[0mscaler_x\u001b[0m\u001b[0;34m.\u001b[0m\u001b[0mtransform\u001b[0m\u001b[0;34m(\u001b[0m\u001b[0mX_test\u001b[0m\u001b[0;34m)\u001b[0m\u001b[0;34m\u001b[0m\u001b[0;34m\u001b[0m\u001b[0m\n\u001b[1;32m      7\u001b[0m \u001b[0;34m\u001b[0m\u001b[0m\n",
      "\u001b[0;31mNameError\u001b[0m: name 'scaler_x' is not defined"
     ]
    }
   ],
   "source": [
    "# CORRECT ORDER for train_test_split\n",
    "X_train, X_test, y_train, y_test = train_test_split(X, y, test_size=0.2, random_state=42)\n",
    "\n",
    "# Scale the data (ONCE!)\n",
    "X_train_scaled = scaler_x.fit_transform(X_train)\n",
    "X_test_scaled = scaler_x.transform(X_test)\n",
    "\n",
    "# Also scale y if you have a scaler for it\n",
    "y_train_scaled = scaler_y.fit_transform(y_train)\n",
    "y_test_scaled = scaler_y.transform(y_test)"
   ]
  },
  {
   "cell_type": "code",
   "execution_count": null,
   "id": "725befe9",
   "metadata": {
    "execution": {
     "iopub.execute_input": "2025-09-24T07:19:12.187697Z",
     "iopub.status.busy": "2025-09-24T07:19:12.186742Z",
     "iopub.status.idle": "2025-09-24T07:19:12.197765Z",
     "shell.execute_reply": "2025-09-24T07:19:12.196840Z",
     "shell.execute_reply.started": "2025-09-24T07:19:12.187672Z"
    },
    "papermill": {
     "duration": null,
     "end_time": null,
     "exception": null,
     "start_time": null,
     "status": "pending"
    },
    "tags": []
   },
   "outputs": [],
   "source": [
    "# Check shapes\n",
    "print(\"X_train_scaled shape:\", X_train_scaled.shape)\n",
    "print(\"y_train_scaled shape:\", y_train_scaled.shape)"
   ]
  },
  {
   "cell_type": "markdown",
   "id": "8359b52a",
   "metadata": {
    "papermill": {
     "duration": null,
     "end_time": null,
     "exception": null,
     "start_time": null,
     "status": "pending"
    },
    "tags": []
   },
   "source": [
    "# Step-4 Convert tp pyTorch Tensors"
   ]
  },
  {
   "cell_type": "code",
   "execution_count": null,
   "id": "022a30d1",
   "metadata": {
    "execution": {
     "iopub.execute_input": "2025-09-24T07:19:12.199214Z",
     "iopub.status.busy": "2025-09-24T07:19:12.198721Z",
     "iopub.status.idle": "2025-09-24T07:19:12.212849Z",
     "shell.execute_reply": "2025-09-24T07:19:12.212020Z",
     "shell.execute_reply.started": "2025-09-24T07:19:12.199186Z"
    },
    "papermill": {
     "duration": null,
     "end_time": null,
     "exception": null,
     "start_time": null,
     "status": "pending"
    },
    "tags": []
   },
   "outputs": [],
   "source": [
    "\n",
    "from torch.utils.data import TensorDataset, DataLoader"
   ]
  },
  {
   "cell_type": "code",
   "execution_count": null,
   "id": "24c3f7e2",
   "metadata": {
    "execution": {
     "iopub.execute_input": "2025-09-24T07:19:12.215320Z",
     "iopub.status.busy": "2025-09-24T07:19:12.215031Z",
     "iopub.status.idle": "2025-09-24T07:19:12.257398Z",
     "shell.execute_reply": "2025-09-24T07:19:12.256544Z",
     "shell.execute_reply.started": "2025-09-24T07:19:12.215292Z"
    },
    "papermill": {
     "duration": null,
     "end_time": null,
     "exception": null,
     "start_time": null,
     "status": "pending"
    },
    "tags": []
   },
   "outputs": [],
   "source": [
    "# Convert numpy arrays to pytorch tensors\n",
    "\n",
    "X_train_tensor = torch.tensor(X_train_scaled, dtype=torch.float32)\n",
    "y_train_tensor = torch.tensor(y_train_scaled, dtype=torch.float32)"
   ]
  },
  {
   "cell_type": "code",
   "execution_count": null,
   "id": "b44cea35",
   "metadata": {
    "execution": {
     "iopub.execute_input": "2025-09-24T07:19:12.258573Z",
     "iopub.status.busy": "2025-09-24T07:19:12.258297Z",
     "iopub.status.idle": "2025-09-24T07:19:12.263324Z",
     "shell.execute_reply": "2025-09-24T07:19:12.262610Z",
     "shell.execute_reply.started": "2025-09-24T07:19:12.258554Z"
    },
    "papermill": {
     "duration": null,
     "end_time": null,
     "exception": null,
     "start_time": null,
     "status": "pending"
    },
    "tags": []
   },
   "outputs": [],
   "source": [
    "\n",
    "X_test_tensor = torch.tensor(X_test_scaled, dtype=torch.float32)\n",
    "y_test_tensor = torch.tensor(y_test_scaled, dtype=torch.float32)"
   ]
  },
  {
   "cell_type": "code",
   "execution_count": null,
   "id": "d5c6b380",
   "metadata": {
    "execution": {
     "iopub.execute_input": "2025-09-24T07:19:12.264740Z",
     "iopub.status.busy": "2025-09-24T07:19:12.264179Z",
     "iopub.status.idle": "2025-09-24T07:19:12.281971Z",
     "shell.execute_reply": "2025-09-24T07:19:12.281029Z",
     "shell.execute_reply.started": "2025-09-24T07:19:12.264712Z"
    },
    "papermill": {
     "duration": null,
     "end_time": null,
     "exception": null,
     "start_time": null,
     "status": "pending"
    },
    "tags": []
   },
   "outputs": [],
   "source": [
    "# 2. Create TensorDataset ( pairs of input & target )\n",
    "train_dataset = TensorDataset(X_train_tensor, y_train_tensor)\n",
    "test_dataset = TensorDataset(X_test_tensor, y_test_tensor)"
   ]
  },
  {
   "cell_type": "code",
   "execution_count": null,
   "id": "ecbd5b16",
   "metadata": {
    "execution": {
     "iopub.execute_input": "2025-09-24T07:19:12.283200Z",
     "iopub.status.busy": "2025-09-24T07:19:12.282939Z",
     "iopub.status.idle": "2025-09-24T07:19:12.297398Z",
     "shell.execute_reply": "2025-09-24T07:19:12.296463Z",
     "shell.execute_reply.started": "2025-09-24T07:19:12.283181Z"
    },
    "papermill": {
     "duration": null,
     "end_time": null,
     "exception": null,
     "start_time": null,
     "status": "pending"
    },
    "tags": []
   },
   "outputs": [],
   "source": [
    "# 3. Create dataloader for batching\n",
    "train_loader = DataLoader(train_dataset, batch_size=64, shuffle = True)\n",
    "test_loader = DataLoader(test_dataset, batch_size = 64, shuffle=False)"
   ]
  },
  {
   "cell_type": "code",
   "execution_count": null,
   "id": "1f23689a",
   "metadata": {
    "execution": {
     "iopub.execute_input": "2025-09-24T07:19:12.298532Z",
     "iopub.status.busy": "2025-09-24T07:19:12.298253Z",
     "iopub.status.idle": "2025-09-24T07:19:12.356289Z",
     "shell.execute_reply": "2025-09-24T07:19:12.355523Z",
     "shell.execute_reply.started": "2025-09-24T07:19:12.298511Z"
    },
    "papermill": {
     "duration": null,
     "end_time": null,
     "exception": null,
     "start_time": null,
     "status": "pending"
    },
    "tags": []
   },
   "outputs": [],
   "source": [
    "# Check one batch\n",
    "for X_batch , y_batch in train_loader:\n",
    "    print(\"X_batch shape:\", X_batch.shape)\n",
    "    print(\"y_batch shape:\", y_batch.shape)\n",
    "    break"
   ]
  },
  {
   "cell_type": "markdown",
   "id": "77d5c75b",
   "metadata": {
    "papermill": {
     "duration": null,
     "end_time": null,
     "exception": null,
     "start_time": null,
     "status": "pending"
    },
    "tags": []
   },
   "source": [
    "# step - 5 Build the model"
   ]
  },
  {
   "cell_type": "code",
   "execution_count": null,
   "id": "0e789d6a",
   "metadata": {
    "execution": {
     "iopub.execute_input": "2025-09-24T07:44:05.072620Z",
     "iopub.status.busy": "2025-09-24T07:44:05.072251Z",
     "iopub.status.idle": "2025-09-24T07:44:05.077177Z",
     "shell.execute_reply": "2025-09-24T07:44:05.076259Z",
     "shell.execute_reply.started": "2025-09-24T07:44:05.072582Z"
    },
    "papermill": {
     "duration": null,
     "end_time": null,
     "exception": null,
     "start_time": null,
     "status": "pending"
    },
    "tags": []
   },
   "outputs": [],
   "source": [
    "import torch.nn as nn"
   ]
  },
  {
   "cell_type": "code",
   "execution_count": null,
   "id": "5ef5e811",
   "metadata": {
    "execution": {
     "iopub.execute_input": "2025-09-24T07:48:05.676134Z",
     "iopub.status.busy": "2025-09-24T07:48:05.675259Z",
     "iopub.status.idle": "2025-09-24T07:48:05.681960Z",
     "shell.execute_reply": "2025-09-24T07:48:05.681025Z",
     "shell.execute_reply.started": "2025-09-24T07:48:05.676102Z"
    },
    "papermill": {
     "duration": null,
     "end_time": null,
     "exception": null,
     "start_time": null,
     "status": "pending"
    },
    "tags": []
   },
   "outputs": [],
   "source": [
    "# 1. Define the model\n",
    "\n",
    "class SalesModel(nn.Module):\n",
    "    def __inint__(self):\n",
    "        super(SalesModel, self).__init__()\n",
    "        # Single linear layer: 3 inputs ( Tv , Radio , Online ) -> Output ( Sales)\n",
    "        self.linear = nn.Linear( 3 ,1)\n",
    "        def forward(self, x):\n",
    "            # forward pass: Input x -> Linear layer -> output\n",
    "            return self.linear(x)\n",
    "\n",
    "# 2. Create a instance of the model\n",
    "model = SalesModel()\n",
    "\n",
    "# 3. print model architecture\n",
    "print(model)"
   ]
  },
  {
   "cell_type": "markdown",
   "id": "a887062c",
   "metadata": {
    "papermill": {
     "duration": null,
     "end_time": null,
     "exception": null,
     "start_time": null,
     "status": "pending"
    },
    "tags": []
   },
   "source": [
    "# Step 6: Loss, Optimizer & Training# "
   ]
  },
  {
   "cell_type": "code",
   "execution_count": null,
   "id": "26c49273",
   "metadata": {
    "execution": {
     "iopub.execute_input": "2025-09-24T08:03:33.118020Z",
     "iopub.status.busy": "2025-09-24T08:03:33.117693Z",
     "iopub.status.idle": "2025-09-24T08:03:33.142187Z",
     "shell.execute_reply": "2025-09-24T08:03:33.141124Z",
     "shell.execute_reply.started": "2025-09-24T08:03:33.117996Z"
    },
    "papermill": {
     "duration": null,
     "end_time": null,
     "exception": null,
     "start_time": null,
     "status": "pending"
    },
    "tags": []
   },
   "outputs": [],
   "source": [
    "import torch.optim as optim\n",
    "\n",
    "# 1. Define Loss function ( Mean Squared Error for regression )\n",
    "criterion = nn.MSELoss()\n",
    "\n",
    "# 2. Define optimizer ( Adam optimizer, commonly used)\n",
    "optimizer = optim.Adam(model.parameters(), lr=0.01)\n",
    "\n",
    "# 3. Training Loop\n",
    "num_epochs = 100 # number of passes over the full dataset\n",
    "\n",
    "for epoch in range(num_epochs):\n",
    "    model.train()\n",
    "    running_loss = 0.0\n",
    "\n",
    "    for X_batch, y_batch in train_loader:\n",
    "        # Zero the gradients\n",
    "        optimizer.zero_grad()\n",
    "\n",
    "        # foraward pass: Compute predicions\n",
    "        outputs = model(X_batch)\n",
    "\n",
    "        # Compute loss\n",
    "        loss = criterion(outputs, y_batch)\n",
    "\n",
    "        # Backward pass: Compute gradinets\n",
    "        loss.backward()\n",
    "\n",
    "        # update weights\n",
    "        optimizer.step()\n",
    "\n",
    "        running_loss += loss.item() * X_batch.size(0)\n",
    "\n",
    "# Average loss for the epoch\n",
    "epoch_loss = running_loss / len(train_loader.dataset)\n",
    "\n",
    " # Print loss every 10 epochs\n",
    "if (epoch + 1) % 10 == 0:\n",
    "    print(f\"Epoch [{epoch+1}/{num_epochs}], Loss: {epoch_loss:.4f}\")"
   ]
  },
  {
   "cell_type": "code",
   "execution_count": null,
   "id": "7031ae4f",
   "metadata": {
    "execution": {
     "iopub.execute_input": "2025-09-24T08:05:07.912559Z",
     "iopub.status.busy": "2025-09-24T08:05:07.912259Z",
     "iopub.status.idle": "2025-09-24T08:05:07.962801Z",
     "shell.execute_reply": "2025-09-24T08:05:07.961939Z",
     "shell.execute_reply.started": "2025-09-24T08:05:07.912536Z"
    },
    "papermill": {
     "duration": null,
     "end_time": null,
     "exception": null,
     "start_time": null,
     "status": "pending"
    },
    "tags": []
   },
   "outputs": [],
   "source": [
    "import torch\n",
    "import torch.nn as nn\n",
    "\n",
    "# Define model\n",
    "class SalesModel(nn.Module):\n",
    "    def __init__(self):\n",
    "        super(SalesModel, self).__init__()\n",
    "        # Single linear layer: 3 inputs → 1 output\n",
    "        self.linear = nn.Linear(3, 1)\n",
    "\n",
    "    def forward(self, x):\n",
    "        return self.linear(x)\n",
    "\n",
    "# Instantiate model\n",
    "model = SalesModel()\n",
    "\n",
    "# Check parameters\n",
    "print(\"Model parameters:\", list(model.parameters()))\n"
   ]
  },
  {
   "cell_type": "code",
   "execution_count": null,
   "id": "c13cf655",
   "metadata": {
    "papermill": {
     "duration": null,
     "end_time": null,
     "exception": null,
     "start_time": null,
     "status": "pending"
    },
    "tags": []
   },
   "outputs": [],
   "source": [
    "# Step 6: Training Loop"
   ]
  },
  {
   "cell_type": "code",
   "execution_count": null,
   "id": "f2223214",
   "metadata": {
    "execution": {
     "iopub.execute_input": "2025-09-24T08:05:12.502467Z",
     "iopub.status.busy": "2025-09-24T08:05:12.502167Z",
     "iopub.status.idle": "2025-09-24T08:05:15.922696Z",
     "shell.execute_reply": "2025-09-24T08:05:15.921756Z",
     "shell.execute_reply.started": "2025-09-24T08:05:12.502445Z"
    },
    "papermill": {
     "duration": null,
     "end_time": null,
     "exception": null,
     "start_time": null,
     "status": "pending"
    },
    "tags": []
   },
   "outputs": [],
   "source": [
    "import torch.optim as optim\n",
    "\n",
    "# Now optimizer will work\n",
    "optimizer = optim.Adam(model.parameters(), lr=0.01)\n",
    "print(\"Optimizer created successfully!\")\n"
   ]
  },
  {
   "cell_type": "markdown",
   "id": "6e67b76c",
   "metadata": {
    "papermill": {
     "duration": null,
     "end_time": null,
     "exception": null,
     "start_time": null,
     "status": "pending"
    },
    "tags": []
   },
   "source": [
    "# Step 6: Training Loop"
   ]
  },
  {
   "cell_type": "code",
   "execution_count": null,
   "id": "ed14ec96",
   "metadata": {
    "execution": {
     "iopub.execute_input": "2025-09-24T08:06:04.518712Z",
     "iopub.status.busy": "2025-09-24T08:06:04.518164Z",
     "iopub.status.idle": "2025-09-24T08:06:11.687514Z",
     "shell.execute_reply": "2025-09-24T08:06:11.686077Z",
     "shell.execute_reply.started": "2025-09-24T08:06:04.518685Z"
    },
    "papermill": {
     "duration": null,
     "end_time": null,
     "exception": null,
     "start_time": null,
     "status": "pending"
    },
    "tags": []
   },
   "outputs": [],
   "source": [
    "num_epochs = 100  # how many times the model sees the full dataset\n",
    "\n",
    "for epoch in range(num_epochs):\n",
    "    model.train()  # set model to training mode\n",
    "    running_loss = 0.0\n",
    "\n",
    "    for X_batch, y_batch in train_loader:\n",
    "        # 1. Zero the gradients from previous step\n",
    "        optimizer.zero_grad()\n",
    "\n",
    "        # 2. Forward pass: compute predicted sales\n",
    "        outputs = model(X_batch)\n",
    "\n",
    "        # 3. Compute loss (MSE)\n",
    "        loss = criterion(outputs, y_batch)\n",
    "\n",
    "        # 4. Backward pass: compute gradients\n",
    "        loss.backward()\n",
    "\n",
    "        # 5. Update weights\n",
    "        optimizer.step()\n",
    "\n",
    "        # Accumulate batch loss\n",
    "        running_loss += loss.item() * X_batch.size(0)\n",
    "\n",
    "    # Average loss for this epoch\n",
    "    epoch_loss = running_loss / len(train_loader.dataset)\n",
    "\n",
    "    # Print every 10 epochs\n",
    "    if (epoch + 1) % 10 == 0:\n",
    "        print(f\"Epoch [{epoch+1}/{num_epochs}], Loss: {epoch_loss:.4f}\")\n"
   ]
  },
  {
   "cell_type": "markdown",
   "id": "99607326",
   "metadata": {
    "papermill": {
     "duration": null,
     "end_time": null,
     "exception": null,
     "start_time": null,
     "status": "pending"
    },
    "tags": []
   },
   "source": [
    "# Step 7: Evaluate & Visualize Predictions."
   ]
  },
  {
   "cell_type": "code",
   "execution_count": null,
   "id": "eb66590e",
   "metadata": {
    "execution": {
     "iopub.execute_input": "2025-09-24T08:06:27.017937Z",
     "iopub.status.busy": "2025-09-24T08:06:27.017524Z",
     "iopub.status.idle": "2025-09-24T08:06:27.234659Z",
     "shell.execute_reply": "2025-09-24T08:06:27.233718Z",
     "shell.execute_reply.started": "2025-09-24T08:06:27.017912Z"
    },
    "papermill": {
     "duration": null,
     "end_time": null,
     "exception": null,
     "start_time": null,
     "status": "pending"
    },
    "tags": []
   },
   "outputs": [],
   "source": [
    "import matplotlib.pyplot as plt\n",
    "\n",
    "# Set model to evaluation mode\n",
    "model.eval()\n",
    "\n",
    "# Disable gradient calculation for evaluation\n",
    "with torch.no_grad():\n",
    "    # Make predictions on test set\n",
    "    y_pred_tensor = model(X_test_tensor)\n",
    "    \n",
    "# Convert predictions back to original scale\n",
    "y_pred = scaler_y.inverse_transform(y_pred_tensor.numpy())\n",
    "y_true = scaler_y.inverse_transform(y_test_tensor.numpy())\n",
    "\n",
    "# Compute Mean Squared Error on test data\n",
    "mse = ((y_pred - y_true) ** 2).mean()\n",
    "print(f\"Test MSE: {mse:.2f}\")\n",
    "\n",
    "# Plot predicted vs actual sales\n",
    "plt.figure(figsize=(6, 6))\n",
    "plt.scatter(y_true, y_pred, alpha=0.5)\n",
    "plt.xlabel(\"Actual Sales\")\n",
    "plt.ylabel(\"Predicted Sales\")\n",
    "plt.title(\"Predicted vs Actual Sales\")\n",
    "plt.plot([y_true.min(), y_true.max()], [y_true.min(), y_true.max()], 'r--')  # diagonal line\n",
    "plt.show()\n"
   ]
  },
  {
   "cell_type": "markdown",
   "id": "ae3f644b",
   "metadata": {
    "papermill": {
     "duration": null,
     "end_time": null,
     "exception": null,
     "start_time": null,
     "status": "pending"
    },
    "tags": []
   },
   "source": []
  },
  {
   "cell_type": "markdown",
   "id": "57f88d3e",
   "metadata": {
    "papermill": {
     "duration": null,
     "end_time": null,
     "exception": null,
     "start_time": null,
     "status": "pending"
    },
    "tags": []
   },
   "source": [
    "# Save/Load"
   ]
  },
  {
   "cell_type": "code",
   "execution_count": null,
   "id": "0b3274dc",
   "metadata": {
    "execution": {
     "iopub.execute_input": "2025-09-24T08:08:05.348161Z",
     "iopub.status.busy": "2025-09-24T08:08:05.347713Z",
     "iopub.status.idle": "2025-09-24T08:08:05.354834Z",
     "shell.execute_reply": "2025-09-24T08:08:05.353662Z",
     "shell.execute_reply.started": "2025-09-24T08:08:05.348133Z"
    },
    "papermill": {
     "duration": null,
     "end_time": null,
     "exception": null,
     "start_time": null,
     "status": "pending"
    },
    "tags": []
   },
   "outputs": [],
   "source": [
    "torch.save(model.state_dict(), \"sales_model.pth\")\n"
   ]
  },
  {
   "cell_type": "code",
   "execution_count": null,
   "id": "2446f75b",
   "metadata": {
    "execution": {
     "iopub.execute_input": "2025-09-24T08:08:10.442664Z",
     "iopub.status.busy": "2025-09-24T08:08:10.442341Z",
     "iopub.status.idle": "2025-09-24T08:08:10.452205Z",
     "shell.execute_reply": "2025-09-24T08:08:10.451315Z",
     "shell.execute_reply.started": "2025-09-24T08:08:10.442639Z"
    },
    "papermill": {
     "duration": null,
     "end_time": null,
     "exception": null,
     "start_time": null,
     "status": "pending"
    },
    "tags": []
   },
   "outputs": [],
   "source": [
    "model = SalesModel()\n",
    "model.load_state_dict(torch.load(\"sales_model.pth\"))\n",
    "model.eval()\n"
   ]
  },
  {
   "cell_type": "code",
   "execution_count": null,
   "id": "5cb409a6",
   "metadata": {
    "papermill": {
     "duration": null,
     "end_time": null,
     "exception": null,
     "start_time": null,
     "status": "pending"
    },
    "tags": []
   },
   "outputs": [],
   "source": []
  }
 ],
 "metadata": {
  "kaggle": {
   "accelerator": "none",
   "dataSources": [],
   "dockerImageVersionId": 31089,
   "isGpuEnabled": false,
   "isInternetEnabled": true,
   "language": "python",
   "sourceType": "notebook"
  },
  "kernelspec": {
   "display_name": "Python 3",
   "language": "python",
   "name": "python3"
  },
  "language_info": {
   "codemirror_mode": {
    "name": "ipython",
    "version": 3
   },
   "file_extension": ".py",
   "mimetype": "text/x-python",
   "name": "python",
   "nbconvert_exporter": "python",
   "pygments_lexer": "ipython3",
   "version": "3.11.13"
  },
  "papermill": {
   "default_parameters": {},
   "duration": 19.641403,
   "end_time": "2025-09-24T08:09:00.101713",
   "environment_variables": {},
   "exception": true,
   "input_path": "__notebook__.ipynb",
   "output_path": "__notebook__.ipynb",
   "parameters": {},
   "start_time": "2025-09-24T08:08:40.460310",
   "version": "2.6.0"
  }
 },
 "nbformat": 4,
 "nbformat_minor": 5
}
